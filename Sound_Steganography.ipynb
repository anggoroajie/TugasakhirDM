{
  "cells": [
    {
      "cell_type": "code",
      "source": [
        "!pip install pydub\n",
        "from pydub import AudioSegment\n",
        "from google.colab import files\n",
        "import struct"
      ],
      "metadata": {
        "id": "l7HcHlKGFvg3"
      },
      "execution_count": null,
      "outputs": []
    },
    {
      "cell_type": "code",
      "source": [
        "# Function to convert text into bits\n",
        "def text_to_bits(text):\n",
        "    bits = []\n",
        "    for char in text:\n",
        "        binary = bin(ord(char))[2:].zfill(8)\n",
        "        bits.extend([int(bit) for bit in binary])\n",
        "    return bits"
      ],
      "metadata": {
        "id": "iTFUnPOtF2cB"
      },
      "execution_count": null,
      "outputs": []
    },
    {
      "cell_type": "code",
      "source": [
        "# Function to convert bits into text\n",
        "def bits_to_text(bits):\n",
        "    text = \"\"\n",
        "    for i in range(0, len(bits), 8):\n",
        "        byte = bits[i:i+8]\n",
        "        char = chr(int(\"\".join([str(bit) for bit in byte]), 2))\n",
        "        text += char\n",
        "    return text"
      ],
      "metadata": {
        "id": "Ay7CAwI3F3cz"
      },
      "execution_count": null,
      "outputs": []
    },
    {
      "cell_type": "code",
      "source": [
        "# Function to hide text in an audio file\n",
        "def hide_text_in_audio(audio_path, output_path, text):\n",
        "    audio = AudioSegment.from_file(audio_path, format=\"mp3\")\n",
        "\n",
        "    # Convert the message text into bits\n",
        "    message_bits = text_to_bits(text)\n",
        "\n",
        "    # Embed the message length at the beginning of the audio file\n",
        "    message_length = len(message_bits)\n",
        "    message_length_bytes = struct.pack(\">I\", message_length)\n",
        "    audio_data = bytes(audio.raw_data[:4]) + message_length_bytes + bytes(audio.raw_data[8:])\n",
        "\n",
        "    # Embed message bits into the audio samples\n",
        "    for i in range(len(message_bits)):\n",
        "        sample_index = int(len(audio_data) * (i / len(message_bits)))\n",
        "        sample = audio_data[sample_index]\n",
        "        sample = (sample & 0xFE) | message_bits[i]\n",
        "        audio_data = audio_data[:sample_index] + bytes([sample]) + audio_data[sample_index + 1:]\n",
        "\n",
        "    # Save the audio file with the embedded message\n",
        "    with open(output_path, \"wb\") as f:\n",
        "        f.write(audio_data)"
      ],
      "metadata": {
        "id": "OcI0olJ1F4ve"
      },
      "execution_count": null,
      "outputs": []
    },
    {
      "cell_type": "code",
      "source": [
        "# Function to download the output audio file\n",
        "def download_output_audio(output_path):\n",
        "    files.download(output_path)"
      ],
      "metadata": {
        "id": "LfEmf9lkF6Sz"
      },
      "execution_count": null,
      "outputs": []
    },
    {
      "cell_type": "code",
      "source": [
        "# Upload the audio file from the computer\n",
        "uploaded = files.upload()"
      ],
      "metadata": {
        "id": "_JwOf2ZfF7ds"
      },
      "execution_count": null,
      "outputs": []
    },
    {
      "cell_type": "code",
      "source": [
        "# Get the path of the uploaded audio file\n",
        "audio_path = next(iter(uploaded))"
      ],
      "metadata": {
        "id": "H8NTBj9cF8b2"
      },
      "execution_count": null,
      "outputs": []
    },
    {
      "cell_type": "code",
      "source": [
        "# Path to save the output audio file with the embedded message\n",
        "output_path = \"/content/output_audio.mp3\""
      ],
      "metadata": {
        "id": "XMMzru0vF98h"
      },
      "execution_count": null,
      "outputs": []
    },
    {
      "cell_type": "code",
      "source": [
        "# Hide the message in the audio file\n",
        "text = \"This is Secret Message\"\n",
        "hide_text_in_audio(audio_path, output_path, text)"
      ],
      "metadata": {
        "id": "txgpeW_pF_9l"
      },
      "execution_count": null,
      "outputs": []
    },
    {
      "cell_type": "code",
      "source": [
        "# Download the output audio file with the embedded message\n",
        "download_output_audio(output_path)"
      ],
      "metadata": {
        "id": "TbuNcMZSGBG1"
      },
      "execution_count": null,
      "outputs": []
    }
  ],
  "metadata": {
    "colab": {
      "name": "Selamat Datang di Colaboratory",
      "toc_visible": true,
      "provenance": []
    },
    "kernelspec": {
      "display_name": "Python 3",
      "name": "python3"
    }
  },
  "nbformat": 4,
  "nbformat_minor": 0
}